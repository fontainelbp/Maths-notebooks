{
 "cells": [
  {
   "cell_type": "markdown",
   "metadata": {},
   "source": [
    "# Condition \n",
    "\n",
    "Les conditions permettent d’exécuter une instruction si le résultat d’un test est vérifié, et d’en exécuter une autre dans le cas contraire.\n",
    "\n",
    "Comme pour les boucles, après le test, on met le symbole `:`  puis on va à la ligne en faisant une indentation pour exécuter les commandes dans le cas ou le test est validé.\n",
    "\n",
    "#### Un exemple simple pour commencer :\n",
    "Faites tourner le programme suivant pour des notes de différentes valeurs.\n"
   ]
  },
  {
   "cell_type": "code",
   "execution_count": 2,
   "metadata": {},
   "outputs": [
    {
     "name": "stdout",
     "output_type": "stream",
     "text": [
      "Entrer une note : 5\n",
      "C’est insuffisant\n"
     ]
    }
   ],
   "source": [
    "note=input('Entrer une note : ')\n",
    "note=float(note)\n",
    "if note<10:\n",
    "    print('C’est insuffisant')\n",
    "else:\n",
    "    print('C’est bien')"
   ]
  },
  {
   "cell_type": "markdown",
   "metadata": {},
   "source": [
    "#### Remarques :\n",
    "* L’instruction `else:` (qui signifie *sinon*) se situe au même niveau d’indentation que le `if` auquel elle se réfère.\n",
    "* Il est possible d’avoir plusieurs conditions emboîtés les unes dans les autres.\n",
    "\n",
    "#### Exercice: \n",
    "Modifier le programme précédent pour que la réponse soit ***Très insuffisant*** si `note` est inférieur à 5,\n",
    "***Insuffisant*** si `note` est entre 5 et 10, ***Correct*** si `note` est entre 10 et 15 et ***Bien*** si `note` est entre 15 et 20.\n",
    "\n",
    "#### Remarque :\n",
    "Vous pouvez bien évidemment utiliser des boucles ainsi que des conditions dans un même programme.\n",
    "\n",
    "#### Exercice :\n",
    "Compléter le programme suivant qui demande un code à quatre chiffres, qui renvoi ***Bienvenu*** si le code est bon\n",
    "qui renvoie ***Code éronné*** si le code est faux et renvoi ***Trois erreurs : ordinateur bloqué*** si l’utilisateur a commis trois erreurs."
   ]
  },
  {
   "cell_type": "code",
   "execution_count": 16,
   "metadata": {},
   "outputs": [
    {
     "name": "stdout",
     "output_type": "stream",
     "text": [
      "Entrer votre code : 2365\n",
      "Code éronné\n",
      "Entrer votre code : 6598\n",
      "Code éronné\n",
      "Entrer votre code : 2\n",
      "Code éronné\n",
      "Trois erreurs : ordinateur bloqué\n"
     ]
    }
   ],
   "source": [
    "code='1234'\n",
    "nombre_essai=0\n",
    "essai='0000'\n",
    "while (...) and (essai!=code):\n",
    "    essai=input('Entrer votre code : ')\n",
    "    nombre_essai=nombre_essai+1\n",
    "    if essai!=code:\n",
    "        print('...')\n",
    "        \n",
    "if essai==code:\n",
    "    print('...')\n",
    "else:\n",
    "    print('...')\n",
    "    "
   ]
  },
  {
   "cell_type": "markdown",
   "metadata": {},
   "source": [
    "#### Remarque :\n",
    "Dans l'instruction `code='1234'` les guillemets simples permettent de dire que la variable `code` est de type *chaine de caractère*."
   ]
  },
  {
   "cell_type": "code",
   "execution_count": null,
   "metadata": {},
   "outputs": [],
   "source": []
  }
 ],
 "metadata": {
  "kernelspec": {
   "display_name": "Python 3",
   "language": "python",
   "name": "python3"
  },
  "language_info": {
   "codemirror_mode": {
    "name": "ipython",
    "version": 3
   },
   "file_extension": ".py",
   "mimetype": "text/x-python",
   "name": "python",
   "nbconvert_exporter": "python",
   "pygments_lexer": "ipython3",
   "version": "3.5.2"
  }
 },
 "nbformat": 4,
 "nbformat_minor": 2
}
