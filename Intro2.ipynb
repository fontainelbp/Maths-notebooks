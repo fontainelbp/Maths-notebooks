{
 "cells": [
  {
   "cell_type": "markdown",
   "metadata": {},
   "source": [
    "<div align=right> <font color='darkblue'>Une petite introduction à Python [2/5]</font></div>\n",
    "\n",
    "----\n",
    "\n",
    "# <font color=darkred> &#10070; Instruction`input` et type d'une variable [2/5]</font>\n",
    "## <font color=darkblue> &diams; Demander à l'utilisateur d'entrer une valeur :  `input` </font>\n",
    "L'instruction `input` introduit une interactivité avec la personne qui exécute votre code, en effet, lorsque Python rencontre une instruction `input`, il affiche un message puis s'arrête et attend qu'une valeur soit tapée au clavier pour continuer. \n",
    "\n",
    "**Exécuter** la cellule suivante :"
   ]
  },
  {
   "cell_type": "code",
   "execution_count": null,
   "metadata": {},
   "outputs": [],
   "source": [
    "jour = input(\"Quel jour sommes nous ? \")"
   ]
  },
  {
   "cell_type": "markdown",
   "metadata": {},
   "source": [
    "Dans l'instruction ci-dessous, vous reconnaissez l'opérateur d'affectation `=` et la variable `jour`, on demande à Python de lui affecter ce que l'utilisateur entre au clavier. <br>\n",
    "**Exécuter** la cellule suivant pour faire un `print` sur `jour` et constater (sans surprise) que cela a fonctionné !"
   ]
  },
  {
   "cell_type": "code",
   "execution_count": null,
   "metadata": {},
   "outputs": [],
   "source": [
    "print(jour)"
   ]
  },
  {
   "cell_type": "markdown",
   "metadata": {},
   "source": [
    "De même que pour l'instruction `print`, la syntaxe du langage doit être respectée à la lettre !\n",
    "\n",
    "**Exécuter** les cellules suivantes pour vous en rendre compte :"
   ]
  },
  {
   "cell_type": "code",
   "execution_count": null,
   "metadata": {},
   "outputs": [],
   "source": [
    "meteo = Input(\"quel temps fait-il ? \"))"
   ]
  },
  {
   "cell_type": "code",
   "execution_count": null,
   "metadata": {},
   "outputs": [],
   "source": [
    "date_de_naissance = input(entrez votre date de naissance sous la forme jj/mm/aaaa)"
   ]
  },
  {
   "cell_type": "markdown",
   "metadata": {},
   "source": [
    "## <font color=green> &#9998; Exercices </font>\n",
    "1. <font color=green> <b>Corriger</b> les deux d'instructions ci-dessus </font>\n",
    "2. <font color=green> <b>Ecrire</b> un programme python qui demande à l'utilisateur son prénom puis affiche \"Bonjour\" suivi du prénom </font>"
   ]
  },
  {
   "cell_type": "code",
   "execution_count": null,
   "metadata": {},
   "outputs": [],
   "source": [
    "#Programme 'Hello world' personnalisé : on demande à l'utilisateur son prénom et on affiche bonjour suvi du prénom \n"
   ]
  },
  {
   "cell_type": "markdown",
   "metadata": {},
   "source": [
    "Nous semblons sur la bonne voie pour faire un programme qui par exemple demande à l'utilisateur deux nombres puis affiche leur moyenne :"
   ]
  },
  {
   "cell_type": "code",
   "execution_count": 1,
   "metadata": {},
   "outputs": [
    {
     "name": "stdout",
     "output_type": "stream",
     "text": [
      "Taper un premier nombre : 16\n",
      "Taper un deuxième nombre : 10\n"
     ]
    },
    {
     "ename": "TypeError",
     "evalue": "unsupported operand type(s) for /: 'str' and 'int'",
     "output_type": "error",
     "traceback": [
      "\u001b[0;31m---------------------------------------------------------------------------\u001b[0m",
      "\u001b[0;31mTypeError\u001b[0m                                 Traceback (most recent call last)",
      "\u001b[0;32m<ipython-input-1-3f3a93f938d0>\u001b[0m in \u001b[0;36m<module>\u001b[0;34m\u001b[0m\n\u001b[1;32m      2\u001b[0m \u001b[0mnombre1\u001b[0m \u001b[0;34m=\u001b[0m \u001b[0minput\u001b[0m\u001b[0;34m(\u001b[0m\u001b[0;34m\"Taper un premier nombre : \"\u001b[0m\u001b[0;34m)\u001b[0m\u001b[0;34m\u001b[0m\u001b[0;34m\u001b[0m\u001b[0m\n\u001b[1;32m      3\u001b[0m \u001b[0mnombre2\u001b[0m \u001b[0;34m=\u001b[0m \u001b[0minput\u001b[0m\u001b[0;34m(\u001b[0m\u001b[0;34m\"Taper un deuxième nombre : \"\u001b[0m\u001b[0;34m)\u001b[0m\u001b[0;34m\u001b[0m\u001b[0;34m\u001b[0m\u001b[0m\n\u001b[0;32m----> 4\u001b[0;31m \u001b[0mmoyenne\u001b[0m \u001b[0;34m=\u001b[0m \u001b[0;34m(\u001b[0m\u001b[0mnombre1\u001b[0m \u001b[0;34m+\u001b[0m \u001b[0mnombre2\u001b[0m\u001b[0;34m)\u001b[0m\u001b[0;34m/\u001b[0m\u001b[0;36m2\u001b[0m\u001b[0;34m\u001b[0m\u001b[0;34m\u001b[0m\u001b[0m\n\u001b[0m\u001b[1;32m      5\u001b[0m \u001b[0mprint\u001b[0m\u001b[0;34m(\u001b[0m\u001b[0;34m\"La moyenne de ces deux nombres est \"\u001b[0m\u001b[0;34m,\u001b[0m\u001b[0mmoyenne\u001b[0m\u001b[0;34m)\u001b[0m\u001b[0;34m\u001b[0m\u001b[0;34m\u001b[0m\u001b[0m\n",
      "\u001b[0;31mTypeError\u001b[0m: unsupported operand type(s) for /: 'str' and 'int'"
     ]
    }
   ],
   "source": [
    "#Demande à l'utilisateur deux nombres puis calcule et affiche leur moyenne\n",
    "nombre1 = input(\"Taper un premier nombre : \")\n",
    "nombre2 = input(\"Taper un deuxième nombre : \")\n",
    "moyenne = (nombre1 + nombre2)/2\n",
    "print(\"La moyenne de ces deux nombres est \",moyenne)"
   ]
  },
  {
   "cell_type": "markdown",
   "metadata": {},
   "source": [
    "Cela ne fonctionne visiblement pas ! Le message d'erreur signale <font color='red'>**TypeError**</font> à la ligne 4, ce qui se traduit par <font color='red'>**Erreur de type**</font>.\n",
    "Pour comprendre ce qui se passe, nous devons introduire la notion suivante : les **types** de variables."
   ]
  },
  {
   "cell_type": "markdown",
   "metadata": {},
   "source": [
    "## <font color=blue> &diams; Les variables ont un type ! </font>\n",
    "Comme nous l'avons vu précédemment, les variables peuvent changer de valeur comme on peut encore le contaster en exécutant les instructions ci-dessous"
   ]
  },
  {
   "cell_type": "code",
   "execution_count": 13,
   "metadata": {},
   "outputs": [
    {
     "name": "stdout",
     "output_type": "stream",
     "text": [
      "pour le moment var contient : 42\n",
      "maintenant, var contient : le guide du voyageur intergalactique\n"
     ]
    }
   ],
   "source": [
    "var = 42\n",
    "print(\"pour le moment var contient :\",var)\n",
    "var = \"le guide du voyageur intergalactique\"\n",
    "print(\"maintenant, var contient :\",var)"
   ]
  },
  {
   "cell_type": "markdown",
   "metadata": {},
   "source": [
    "Bien que cela ne soit pas visible de prime abord, le changement de `var` est encore plus profond ! En passant de 42 à \"le guide du voyageur intergalactique\", cette variable a aussi changé de **type**. Cette notion demande quelques explications, mais auparavant, nous allons créer trois nouvelles variables et afficher leur type à l'aide de l'instruction `type`."
   ]
  },
  {
   "cell_type": "code",
   "execution_count": 2,
   "metadata": {},
   "outputs": [
    {
     "name": "stdout",
     "output_type": "stream",
     "text": [
      "<class 'int'>\n"
     ]
    }
   ],
   "source": [
    "annee = 1515\n",
    "print(type(annee))"
   ]
  },
  {
   "cell_type": "markdown",
   "metadata": {},
   "source": [
    "Python nous signale ici que la variable `annee` est du type `int`, abréviation de l'anglais integer c'est à dire entier. en clair, pour Python, la variable `annee` est un nombre entier."
   ]
  },
  {
   "cell_type": "code",
   "execution_count": 3,
   "metadata": {},
   "outputs": [
    {
     "name": "stdout",
     "output_type": "stream",
     "text": [
      "<class 'str'>\n"
     ]
    }
   ],
   "source": [
    "langage = \"python\"\n",
    "print(type(langage))"
   ]
  },
  {
   "cell_type": "markdown",
   "metadata": {},
   "source": [
    "Python indique cette fois que la variable langage est du type `str` abréviation de l'anglais string pour chaine de caractères. En clair Python nous indique ici que la variable `langage` est pour lui une suite de caractères."
   ]
  },
  {
   "cell_type": "code",
   "execution_count": 4,
   "metadata": {},
   "outputs": [
    {
     "name": "stdout",
     "output_type": "stream",
     "text": [
      "<class 'float'>\n"
     ]
    }
   ],
   "source": [
    "pi = 3.1415\n",
    "print(type(pi))"
   ]
  },
  {
   "cell_type": "markdown",
   "metadata": {},
   "source": [
    "Ici, Python indique que la variable est du type `float` pour nombre à virgule *flottante*."
   ]
  },
  {
   "cell_type": "markdown",
   "metadata": {},
   "source": [
    "<div class=\"alert alert-block alert-info\">\n",
    "<b>&#9889; A retenir : </b> <br>\n",
    "Les variables de python ont un <b>type</b> pour indiquer ce qu'elles contiennent. Nous avons rencontré trois types pour le moment :<ul>   \n",
    "    <li> Le type <i>int</i> pour des variables contenant des nombres entiers\n",
    "    <li> Le type <i>float</i> pour des variables contenant des nombres à virgules\n",
    "    <li> Le type <i>str</i> pour des variables contenant du texte \n",
    "</ul>\n",
    "</div>"
   ]
  },
  {
   "cell_type": "markdown",
   "metadata": {},
   "source": [
    "## <font color=green> &#9998; Exercices </font>\n",
    "3. <font color=green> <b>Créer</b> une variable contenant `58`, faites afficher son type. </font>\n",
    "4. <font color=green> <b>Créer</b> une variable contenant `58.0`, faites afficher son type. </font>\n",
    "5. <font color=green> <b>Créer</b> une variable contenant `\"58\"`, faites afficher son type. </font>"
   ]
  },
  {
   "cell_type": "code",
   "execution_count": null,
   "metadata": {},
   "outputs": [],
   "source": [
    "# Creer ici vos variables et faites afficher leurs types\n"
   ]
  },
  {
   "cell_type": "markdown",
   "metadata": {},
   "source": [
    "Vous avez dû remarquer dans les exemples ci-dessus que Python a automatiquement attribué un type à chacune des variables en fonction de son contenu, et que les chaines de caractères (`str`) sont entre guillemets.\n",
    "Mais quel sera le type d'une variable crée à l'aide de l'instruction `input` ?\n",
    "\n",
    "Pour le découvrir **exécuter** le programme ci-dessous plusieurs fois en donnant diverses réponses : nombre entier, nombre à vrigule ou chaine de caractères."
   ]
  },
  {
   "cell_type": "code",
   "execution_count": 16,
   "metadata": {},
   "outputs": [
    {
     "name": "stdout",
     "output_type": "stream",
     "text": [
      "Entrez une donnée : 58\n"
     ]
    },
    {
     "data": {
      "text/plain": [
       "str"
      ]
     },
     "execution_count": 16,
     "metadata": {},
     "output_type": "execute_result"
    }
   ],
   "source": [
    "#Affiche le type de la variable crée par un input\n",
    "donnee = input(\"Entrez une donnée : \")\n",
    "type(donnee)"
   ]
  },
  {
   "cell_type": "markdown",
   "metadata": {},
   "source": [
    "Python répond invariablement `str`, en effet :\n",
    "<div class=\"alert alert-block alert-info\">\n",
    "<b>&#9889; A retenir : </b> <br>\n",
    "Une variable entrée au clavier par un <i>input</i> est toujours du type <i>str</i> c'est à dire considéré comme une chaine de caractères.\n",
    "</ul>\n",
    "</div>\n",
    "\n",
    "---\n",
    "Reprenons notre programme de la première partie qui ne fonctionnait pas :\n"
   ]
  },
  {
   "cell_type": "code",
   "execution_count": null,
   "metadata": {},
   "outputs": [],
   "source": [
    "#Demande à l'utilisateur deux nombres puis calcule et affiche leur somme\n",
    "nombre1 = input(\"Taper un premier nombre : \")\n",
    "nombre2 = input(\"Taper un deuxième nombre : \")\n",
    "moyenne = (nombre1 + nombre2)/2\n",
    "print(\"La somme de ces deux nombres est \",moyenne)"
   ]
  },
  {
   "cell_type": "markdown",
   "metadata": {},
   "source": [
    "On comprend le problème : pour python nombre1 et nombre2 sont en fait des chaines de caractères par conséquent, calculer leur moyenne n'a pas de sens ! \n",
    "\n",
    "Pour résoudre ce problème nous devons convertir nombre1 et nombre2 en nombre à virgule, cela se fait grâce à l'instruction `float`. Voici le programme corrigé :\n"
   ]
  },
  {
   "cell_type": "code",
   "execution_count": 17,
   "metadata": {},
   "outputs": [
    {
     "name": "stdout",
     "output_type": "stream",
     "text": [
      "Taper un premier nombre : 12\n",
      "Taper un deuxième nombre : 17\n",
      "La moyenne de ces deux nombres est  14.5\n"
     ]
    }
   ],
   "source": [
    "#Demande à l'utilisateur deux nombres puis calcule et affiche leur somme\n",
    "nombre1 = float(input(\"Taper un premier nombre : \")) #float() permet de convertir la valeur entrée en flottant\n",
    "nombre2 = float(input(\"Taper un deuxième nombre : \")) \n",
    "moyenne = (nombre1 + nombre2)/2\n",
    "print(\"La moyenne de ces deux nombres est \",moyenne)"
   ]
  },
  {
   "cell_type": "markdown",
   "metadata": {},
   "source": [
    "## <font color=green> &#9998; Exercice </font>\n",
    "\n",
    "6. <font color=\"green\"> <b>Compléter</b> le programme Python ci-dessous qui calcule la surface d'un rectangle après avoir demandé sa largeur et sa longueur</font>\n",
    "    "
   ]
  },
  {
   "cell_type": "code",
   "execution_count": null,
   "metadata": {},
   "outputs": [],
   "source": [
    "# Programme pour calculer la surface d'un rectangle à partir de sa longueur et de sa largeur\n",
    "longueur = _____(input(\"Entrer la longueur du rectangle : \")) #longueur doit être un flottant utiliser la conversion !\n",
    "largeur = _____(_____(\"Entrer la largeur du rectangle : \"))\n",
    "surface = _______*_________\n",
    "_____(\"La surface du rectangle est :\",___________)"
   ]
  },
  {
   "cell_type": "markdown",
   "metadata": {},
   "source": [
    "7. <font color=green> <b>Ecrire</b> un programme python qui demande à l'utilisateur son année de naissance et lui affiche ensuite son age.</font>"
   ]
  },
  {
   "cell_type": "code",
   "execution_count": null,
   "metadata": {},
   "outputs": [],
   "source": [
    "# Programme pour calculer l'age à partir de la date de naissance\n"
   ]
  },
  {
   "cell_type": "markdown",
   "metadata": {},
   "source": [
    "8. <font color=green> <b>Ecrire</b> un programme python qui demande à l'utilisateur le côté d'un carré et affiche ensuite la surface de ce carré.</font>"
   ]
  },
  {
   "cell_type": "code",
   "execution_count": null,
   "metadata": {},
   "outputs": [],
   "source": [
    "# Programme pour calculer la surface d'un carré à partir du côté\n"
   ]
  }
 ],
 "metadata": {
  "kernelspec": {
   "display_name": "Python 3",
   "language": "python",
   "name": "python3"
  },
  "language_info": {
   "codemirror_mode": {
    "name": "ipython",
    "version": 3
   },
   "file_extension": ".py",
   "mimetype": "text/x-python",
   "name": "python",
   "nbconvert_exporter": "python",
   "pygments_lexer": "ipython3",
   "version": "3.7.3"
  }
 },
 "nbformat": 4,
 "nbformat_minor": 2
}
