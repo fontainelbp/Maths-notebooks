{
 "cells": [
  {
   "cell_type": "markdown",
   "metadata": {},
   "source": [
    "# <div style=\"text-align:center;\"> <span style=\"color: red\">TP INFO SECOND DEGRE</span></div>"
   ]
  },
  {
   "cell_type": "markdown",
   "metadata": {},
   "source": [
    "Vous répondrez aux <span style=\"color: blue\">questions</span> sur votre feuille et écrirez les <span style=\"color: teal\">programmes</span> ici dans ce cahier Jupyter."
   ]
  },
  {
   "cell_type": "markdown",
   "metadata": {},
   "source": [
    "## <span style=\"color: red\">Partie A : Une fonction qu'on va rebaptiser ......... parce que ça sera plus facile de savoir ce qu'elle fait en lisant son nom.</span>"
   ]
  },
  {
   "cell_type": "markdown",
   "metadata": {},
   "source": [
    "Voici, écrit en langage Python, un programme définissant une <span style=\"color: teal\">fonction</span> nommée \"fonction\" :"
   ]
  },
  {
   "cell_type": "markdown",
   "metadata": {},
   "source": [
    "```python\n",
    "def fonction(a,b,c):\n",
    "    x=-b/(2*a)\n",
    "    y=a*x*x+b*x+c\n",
    "    return x,y\n",
    "```"
   ]
  },
  {
   "cell_type": "markdown",
   "metadata": {},
   "source": [
    "<span style=\"color: blue\">**1.** Combien d'arguments la fonction \"fonction\" demande-t-elle en entrée ?</span>"
   ]
  },
  {
   "cell_type": "markdown",
   "metadata": {},
   "source": [
    "<span style=\"color: blue\">**2.** Combien de valeurs la fonction \"fonction\" retourne-t-elle en sortie ?</span>"
   ]
  },
  {
   "cell_type": "markdown",
   "metadata": {},
   "source": [
    "<span style=\"color: blue\">**3.** Que fait la fonction \"fonction ?</span>"
   ]
  },
  {
   "cell_type": "markdown",
   "metadata": {},
   "source": [
    "***Remarque : Il vaut mieux donner des noms explicites à nos fonctions et variables pour faciliter la lecture et la compréhension des programmes***"
   ]
  },
  {
   "cell_type": "markdown",
   "metadata": {},
   "source": [
    "Après avoir rebaptisé la <span style=\"color: teal\">fonction</span> \"fonction\" et ses variables x et y, testez la <span style=\"color: teal\">fonction</span> sur le polynôme défini sur $\\mathbb R$ par $P(x)=2x^2+4x-6$."
   ]
  },
  {
   "cell_type": "code",
   "execution_count": 1,
   "metadata": {},
   "outputs": [],
   "source": [
    "# ici on définit la fonction.\n"
   ]
  },
  {
   "cell_type": "code",
   "execution_count": 2,
   "metadata": {},
   "outputs": [],
   "source": [
    "# ici on utilise la fonction avec les arguments voulus.\n"
   ]
  },
  {
   "cell_type": "markdown",
   "metadata": {},
   "source": [
    "## <span style=\"color: red\">Partie B : C'est bien beau tout ça mais moi je veux qu'on me donne un moyen d'avoir les solutions des équations du second degré.</span>"
   ]
  },
  {
   "cell_type": "markdown",
   "metadata": {},
   "source": [
    "On souhaite écrire un algorithme pour résoudre les équations du second degré à l'aide du discriminant $\\Delta$."
   ]
  },
  {
   "cell_type": "markdown",
   "metadata": {},
   "source": [
    " <span style=\"color: blue\">**1.** Le polynôme P a-t-il toujours des racines ?</span>"
   ]
  },
  {
   "cell_type": "markdown",
   "metadata": {},
   "source": [
    "<span style=\"color: blue\">**2.** Que nous faut-il connaitre comme nombre pour pouvoir calculer $\\Delta$ ?</span>"
   ]
  },
  {
   "cell_type": "markdown",
   "metadata": {},
   "source": [
    "<span style=\"color: teal\"> **3.a** Ecrivez un programme en Python pour définir une fonction delta qui prend les coefficients a, b et c du polynôme P en arguments et qui retourne son discriminant.</span>"
   ]
  },
  {
   "cell_type": "code",
   "execution_count": 3,
   "metadata": {},
   "outputs": [],
   "source": [
    "# On définit ici la fonction delta\n"
   ]
  },
  {
   "cell_type": "markdown",
   "metadata": {},
   "source": [
    "<span style=\"color: teal\"> **3.b** Testez la fonction delta sur le polynôme défini sur $\\mathbb R$ par $P(x)=2x^2+4x-6$.</span>"
   ]
  },
  {
   "cell_type": "code",
   "execution_count": null,
   "metadata": {},
   "outputs": [],
   "source": [
    "#On teste ici\n"
   ]
  },
  {
   "cell_type": "markdown",
   "metadata": {},
   "source": [
    "<span style=\"color: blue\"> **4.** Recopier et compléter l'algorithme suivant écrit en langage naturel :</span>\n",
    "\n",
    "  \n",
    "**Entrer** ..., ..., ...\n",
    "\n",
    "D $\\leftarrow$ ..................\n",
    "\n",
    "**Si** D < 0 **alors**  \n",
    "\n",
    "&nbsp;&nbsp;&nbsp;&nbsp;**Afficher** ..................\n",
    "\n",
    "**Sinon**\n",
    "\n",
    "&nbsp;&nbsp;&nbsp;&nbsp;$x_1$ $\\leftarrow$ ..................\n",
    "\n",
    "&nbsp;&nbsp;&nbsp;&nbsp;$x_2$ $\\leftarrow$ ..................\n",
    "\n",
    "&nbsp;&nbsp;&nbsp;&nbsp;**Afficher** $x_1$ et $x_2$\n"
   ]
  },
  {
   "cell_type": "markdown",
   "metadata": {},
   "source": [
    "**5. Nous allons écrire** <span style=\"color: teal\">l'algorithme</span> de la question précédente en programme Python, le tester, puis le réécrire en une fonction."
   ]
  },
  {
   "cell_type": "code",
   "execution_count": 4,
   "metadata": {},
   "outputs": [],
   "source": [
    "from math import sqrt # On va avoir besoin de la racien carrée\n",
    "# On écrit l'algorithme en Python\n"
   ]
  },
  {
   "cell_type": "code",
   "execution_count": 7,
   "metadata": {},
   "outputs": [],
   "source": [
    "from math import sqrt # On va avoir besoin de la racien carrée\n",
    "# On écrit une fonction nommée racines\n"
   ]
  },
  {
   "cell_type": "markdown",
   "metadata": {},
   "source": [
    "**6.** Testez la <span style=\"color: teal\">fonction racines</span> sur le polynôme défini sur $\\mathbb R$ par $P(x)=2x^2+4x-6$."
   ]
  },
  {
   "cell_type": "code",
   "execution_count": null,
   "metadata": {},
   "outputs": [],
   "source": []
  },
  {
   "cell_type": "markdown",
   "metadata": {},
   "source": [
    "## <span style=\"color: red\">Partie C : On n'a pas toujours Python à portée de main donc faisons le programme sur la calculatrice.</span>"
   ]
  },
  {
   "cell_type": "markdown",
   "metadata": {},
   "source": [
    "1. Prenez vos calculatrice et recopiez-y le programme suivant.  \n",
    "\n",
    "> [source Wikipedia du programme](https://fr.wikipedia.org/wiki/TI-Basic#Trouver_les_racines_réelles_d'une_fonction_trinôme)  \n",
    "> [lien vers les explications des instructions du langage TI](http://maths.spip.ac-rouen.fr/IMG/pdf/TI.pdf)\n"
   ]
  },
  {
   "cell_type": "markdown",
   "metadata": {},
   "source": [
    "```\n",
    ":Disp \"FORME AX²+BX+C\"  # Indique à l'utilisateur à quoi correspondent les lettres A, B et C demandées après\n",
    ":Prompt A,B,C           # Demande A, B et C, indentique à :Input \"A=\", sauf en terme de mémoire\n",
    ":B²-4AC→D               # Calcul du discriminant Δ (Delta)\n",
    ":Disp \"DELTA=\",D        # On informe l'utilisateur de ce que vaut le discriminant\n",
    ":If D<0                 # Si D est inférieur à 0, alors…  \n",
    ":Disp \"PAS DE RACINES\"  # Écrit \"PAS DE RACINES\"\n",
    ":If D>0:Then            # Si D est supérieur à 0, alors…\n",
    ":Disp \"IL Y A 2 RACINES\"# Écrit \"IL Y A 2 RACINES\"\n",
    ":((-B+√(D))/(2A)→E      # Calcul et stockage de la première racine\n",
    ":((-B-√(D))/(2A)→F      # Calcul et stockage de la deuxième racine\n",
    ":Disp E,F               # On affiche les deux racines\n",
    ":End                    # Fin de la condition \n",
    ":If D=0:Then            # Si D est égal à 0, alors…\n",
    ":Disp \"IL Y A 1 RACINE\" # Écrit \"IL Y A 1 RACINE\"\n",
    ":(-B)/(2A)→G            # Calcul et stockage de la racine\n",
    ":Disp G                 # On affiche la racine\n",
    ":End                    # C'est fini!\n",
    "```"
   ]
  },
  {
   "cell_type": "markdown",
   "metadata": {},
   "source": [
    "## <span style=\"color: red\">Partie D : Pour les pros et peut-être pour nous aussi si on a le temps.</span>"
   ]
  },
  {
   "cell_type": "markdown",
   "metadata": {},
   "source": [
    " <span style=\"color: blue\">**1.** Comment peut-on raffiner ce programme ? Donnez plusieurs idées</span> et <span style=\"color: teal\">modifiez le programme en conséquence.</span>"
   ]
  },
  {
   "cell_type": "code",
   "execution_count": null,
   "metadata": {},
   "outputs": [],
   "source": []
  }
 ],
 "metadata": {
  "celltoolbar": "Format de la Cellule Texte Brut",
  "kernelspec": {
   "display_name": "Python 3",
   "language": "python",
   "name": "python3"
  },
  "language_info": {
   "codemirror_mode": {
    "name": "ipython",
    "version": 3
   },
   "file_extension": ".py",
   "mimetype": "text/x-python",
   "name": "python",
   "nbconvert_exporter": "python",
   "pygments_lexer": "ipython3",
   "version": "3.7.3"
  }
 },
 "nbformat": 4,
 "nbformat_minor": 2
}
