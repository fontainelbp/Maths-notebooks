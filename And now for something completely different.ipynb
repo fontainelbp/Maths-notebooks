{
 "cells": [
  {
   "cell_type": "markdown",
   "metadata": {},
   "source": [
    "## <span style=\"color: red\">Suite définie de manière explicite</span>"
   ]
  },
  {
   "cell_type": "markdown",
   "metadata": {},
   "source": [
    "On peut générer la liste des termes d'une suite définie de manière explicite directement \"en compréhension\"."
   ]
  },
  {
   "cell_type": "markdown",
   "metadata": {},
   "source": [
    "### <span style=\"color: green\">Exemple</span>"
   ]
  },
  {
   "cell_type": "code",
   "execution_count": 1,
   "metadata": {},
   "outputs": [],
   "source": [
    "# En compréhension\n",
    "\n",
    "suite = [5*n+2 for n in range(10)]"
   ]
  },
  {
   "cell_type": "code",
   "execution_count": 2,
   "metadata": {
    "scrolled": true
   },
   "outputs": [
    {
     "data": {
      "text/plain": [
       "[2, 7, 12, 17, 22, 27, 32, 37, 42, 47]"
      ]
     },
     "execution_count": 2,
     "metadata": {},
     "output_type": "execute_result"
    }
   ],
   "source": [
    "suite"
   ]
  },
  {
   "cell_type": "markdown",
   "metadata": {},
   "source": [
    "### <span style=\"color: blue\">Exercice 1 [Euh ...]</span>"
   ]
  },
  {
   "cell_type": "markdown",
   "metadata": {},
   "source": [
    "On considère la suite définie pour tout entier $n \\in \\mathbb{N}^{\\ast}$ par $u(n)=\\left(1+\\dfrac{1}{n}\\right)^n$. Calculer les 20 premiers termes de la suite $(u_n)$"
   ]
  },
  {
   "cell_type": "code",
   "execution_count": null,
   "metadata": {},
   "outputs": [],
   "source": []
  },
  {
   "cell_type": "code",
   "execution_count": null,
   "metadata": {
    "scrolled": false
   },
   "outputs": [],
   "source": []
  },
  {
   "cell_type": "markdown",
   "metadata": {},
   "source": [
    "## <span style=\"color: red\">Suite définie par récurrence</span>"
   ]
  },
  {
   "cell_type": "markdown",
   "metadata": {},
   "source": [
    "On génère la liste des termes d'une suite définie par récurrence par ajouts successifs."
   ]
  },
  {
   "cell_type": "code",
   "execution_count": 3,
   "metadata": {},
   "outputs": [],
   "source": [
    "def f(u):\n",
    "    return u+5\n",
    "\n",
    "def Suite_recurrente(f,u_0,fin):\n",
    "    suite = [u_0]\n",
    "    for compteur in range(fin-1):\n",
    "        suite.append(f(suite[-1]))\n",
    "    return suite"
   ]
  },
  {
   "cell_type": "code",
   "execution_count": 4,
   "metadata": {
    "scrolled": true
   },
   "outputs": [
    {
     "data": {
      "text/plain": [
       "[2, 7, 12, 17, 22, 27, 32, 37, 42, 47]"
      ]
     },
     "execution_count": 4,
     "metadata": {},
     "output_type": "execute_result"
    }
   ],
   "source": [
    "Suite_recurrente(f,2,10)"
   ]
  },
  {
   "cell_type": "markdown",
   "metadata": {},
   "source": [
    "### <span style=\"color: blue\">Exercice 2 [Racine de petit patapon]</span>"
   ]
  },
  {
   "cell_type": "markdown",
   "metadata": {},
   "source": [
    "On considère la suite définie par $v_0=2$ et $v_{n+1}=\\dfrac12\\left(v_n+\\dfrac{1}{v_n}\\right)$. Calculer les 20 premiers termes de la suite $(v_n)$."
   ]
  },
  {
   "cell_type": "code",
   "execution_count": null,
   "metadata": {},
   "outputs": [],
   "source": []
  },
  {
   "cell_type": "code",
   "execution_count": null,
   "metadata": {},
   "outputs": [],
   "source": []
  },
  {
   "cell_type": "markdown",
   "metadata": {},
   "source": [
    "## <span style=\"color: red\">Liste des premiers termes d’une suite : Suite de Syracuse</span>"
   ]
  },
  {
   "cell_type": "markdown",
   "metadata": {},
   "source": [
    "### <span style=\"color: red\">Définition</span>"
   ]
  },
  {
   "cell_type": "markdown",
   "metadata": {},
   "source": [
    "La suite de Syracuse une suite d'entiers naturels définie de la manière suivante : on part d'un nombre entier plus grand que zéro ; s’il est pair, on le divise par 2 ; s’il est impair, on le multiplie par 3 et on ajoute 1.  \n",
    "Après que le nombre 1 a été atteint, la suite des valeurs (1,4,2,1,4,2…) se répète indéfiniment en un cycle de longueur 3, appelé cycle trivial.  \n",
    "La conjecture de Syracuse est: \"la suite de Syracuse de n'importe quel entier strictement positif atteint 1\".  \n",
    "En dépit de la simplicité de son énoncé, cette conjecture défie depuis de nombreuses années les mathématiciens.  \n",
    "Paul Erdős a dit à propos de la conjecture de Syracuse : \"les mathématiques ne sont pas encore prêtes pour de tels problèmes\""
   ]
  },
  {
   "cell_type": "code",
   "execution_count": 5,
   "metadata": {},
   "outputs": [],
   "source": [
    "def Syracuse(u0):\n",
    "    suite=[u0]\n",
    "    u = u0\n",
    "    while(u>1):\n",
    "        if u%2 != 0:\n",
    "            u = 3*u+1\n",
    "        else:\n",
    "            u = u//2\n",
    "        suite.append(u)\n",
    "    return suite"
   ]
  },
  {
   "cell_type": "markdown",
   "metadata": {},
   "source": [
    "### <span style=\"color: green\">Exemple</span>"
   ]
  },
  {
   "cell_type": "code",
   "execution_count": 6,
   "metadata": {},
   "outputs": [
    {
     "data": {
      "text/plain": [
       "[24, 12, 6, 3, 10, 5, 16, 8, 4, 2, 1]"
      ]
     },
     "execution_count": 6,
     "metadata": {},
     "output_type": "execute_result"
    }
   ],
   "source": [
    "Syracuse(24)"
   ]
  },
  {
   "cell_type": "code",
   "execution_count": 7,
   "metadata": {},
   "outputs": [],
   "source": [
    "import matplotlib.pyplot as plt\n",
    "\n",
    "def Representation_graphique_suite(suite):\n",
    "    plt.plot(range(0,len(suite)),suite,\"b.\")\n",
    "    plt.show()"
   ]
  },
  {
   "cell_type": "code",
   "execution_count": 8,
   "metadata": {},
   "outputs": [
    {
     "data": {
      "image/png": "[encoded data removed]",
      "text/plain": [
       "<Figure size 432x288 with 1 Axes>"
      ]
     },
     "metadata": {
      "needs_background": "light"
     },
     "output_type": "display_data"
    }
   ],
   "source": [
    "Representation_graphique_suite(Syracuse(2019))"
   ]
  },
  {
   "cell_type": "markdown",
   "metadata": {},
   "source": [
    "**Remarque :** On peut déterminer certains paramètres de la suite de Syracuse (source: https://fr.wikipedia.org/wiki/Conjecture_de_Syracuse).\n",
    "\n",
    "- **le temps de vol** : c’est le plus petit indice $n$ tel que $u_n=1$. *(le temps mis pour atteindre 1)*\n",
    "- **le temps de vol en altitude** : c’est le plus petit indice $n$ tel que $u_{n+1} < u_0$. *(le temps passé au dessus de la valeur de départ)*\n",
    "- **l’altitude maximale** : c’est la valeur maximale de la suite.\n",
    "\n",
    "On peut utiliser les fonctions qui opèrent sur les listes"
   ]
  },
  {
   "cell_type": "code",
   "execution_count": 9,
   "metadata": {},
   "outputs": [],
   "source": [
    "def Parametres_Suite_Syracuse(suite):\n",
    "    temps_de_vol = len(suite)-1\n",
    "    altitude_max = max(suite)\n",
    "    \n",
    "    n = 0\n",
    "    while suite[n]>=suite[0]:\n",
    "        n = n+1\n",
    "    temps_vol_altitude = n-1\n",
    "    return(temps_de_vol,temps_vol_altitude,altitude_max)"
   ]
  },
  {
   "cell_type": "code",
   "execution_count": 10,
   "metadata": {
    "scrolled": true
   },
   "outputs": [
    {
     "data": {
      "text/plain": [
       "(112, 5, 9232)"
      ]
     },
     "execution_count": 10,
     "metadata": {},
     "output_type": "execute_result"
    }
   ],
   "source": [
    "Parametres_Suite_Syracuse(Syracuse(2019))"
   ]
  },
  {
   "cell_type": "markdown",
   "metadata": {},
   "source": [
    "### <span style=\"color: blue\">Exercice 3 [Des Collatz imminents pour Syracuse]</span>"
   ]
  },
  {
   "cell_type": "markdown",
   "metadata": {},
   "source": [
    "Tester la fonction Syracuse pour $u_0=120$, $u_0=27$, $u_0=13$, puis $u_0=10$. Parmi ces suites laquelle possède le plus grand temps de vol ? Le plus grand temps de vol en altitude ? La plus grande altitude maximale ? Essayer de battre votre record de temps de vol."
   ]
  },
  {
   "cell_type": "code",
   "execution_count": null,
   "metadata": {},
   "outputs": [],
   "source": []
  },
  {
   "cell_type": "code",
   "execution_count": null,
   "metadata": {
    "scrolled": true
   },
   "outputs": [],
   "source": []
  },
  {
   "cell_type": "code",
   "execution_count": null,
   "metadata": {},
   "outputs": [],
   "source": []
  }
 ],
 "metadata": {
  "kernelspec": {
   "display_name": "Python 3",
   "language": "python",
   "name": "python3"
  },
  "language_info": {
   "codemirror_mode": {
    "name": "ipython",
    "version": 3
   },
   "file_extension": ".py",
   "mimetype": "text/x-python",
   "name": "python",
   "nbconvert_exporter": "python",
   "pygments_lexer": "ipython3",
   "version": "3.7.3"
  }
 },
 "nbformat": 4,
 "nbformat_minor": 2
}
