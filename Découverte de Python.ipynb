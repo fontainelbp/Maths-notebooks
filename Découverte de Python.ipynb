{
 "cells": [
  {
   "cell_type": "markdown",
   "metadata": {},
   "source": [
    "# Découverte de Python\n",
    "\n",
    "## Introduction\n",
    "\n",
    "Python est un langage de programmation comme il en existe beaucoup en informatique. C’est ce\n",
    "programme que nous utiliserons cette année lorsque nous feront de l’algorithmique.\n",
    "\n",
    "Cette année, nous ne feront qu’une découverte succincte des différentes possibilités qu’offre ce\n",
    "langage de programmation, cependant, si vous maitrisez les concepts simples que l’on verra, vous\n",
    "pourrez déjà commencer à réaliser de jolis petits programmes.\n",
    "\n",
    "Comme vous avez déjà commencer l’algorithmique avec Scratch, vous connaissez déjà un\n",
    "certain nombre de choses (les variables, les boucles, les conditions, ...). La plus grosse difficulté\n",
    "sera donc d’apprendre la syntaxe propre à Python afin que l’ordinateur puisse interpréter ce que\n",
    "vous lui demandez.\n",
    "\n",
    "Aller, on commence par un petit programme extrêmement simple qui consiste juste à afficher à\n",
    "l’écran le message suivant : « Salut à tous »."
   ]
  },
  {
   "cell_type": "code",
   "execution_count": 3,
   "metadata": {},
   "outputs": [
    {
     "name": "stdout",
     "output_type": "stream",
     "text": [
      "Salut à tous\n"
     ]
    }
   ],
   "source": [
    "print('Salut à tous')"
   ]
  },
  {
   "cell_type": "markdown",
   "metadata": {},
   "source": [
    "#### <span style='color:blue'>Exercice 1 :</span>\n",
    "\n",
    "<span style='color:blue'>Remplacer le texte \"Salut à tous\" dans la cellule précédente et cliquer sur **Exécuter**.</span>\n",
    "\n",
    "### Remarques :\n",
    "\n",
    "* On remarque l'utilisation de la commande `print` avec le texte entre parenthèses entouré de guillement simples (ou double).\n",
    "* Bien évidemment, vous pouvez écrire le texte que vous voulez, de la taille que vous voulez. \n",
    "* Cela reste assez simpliste et l’utilisation de variables va rendre les choses un peu plus intéressantes.\n",
    "\n",
    "\n",
    "\n",
    "## Les variables\n",
    "\n",
    "Comme vous le savez déjà, l’utilisation de variables en algorithmique est fondamentale. C’est\n",
    "dans celles-ci que sont stockés la plus part des informations utiles à la bonne réalisation de votre\n",
    "programme.\n",
    "\n",
    "Sur Python, chaque variable possède un type. (Entier, Flottant, Chaine de caractères, etc...). Heureusement, Python reconnait le type de votre variable lorsque vous l’utilisez (enfin, dans la plupart des cas...).\n",
    "\n",
    "Le fait que Python reconnaisse le type de votre variable vous permet d’écrire votre programme\n",
    "sans avoir besoin de « déclarer » votre variable au départ. C’est pratique, mais gardez en tête, que\n",
    "le type de votre variable est important dans l’exécution d’un programme. Par exemple, on ne fait\n",
    "pas de multiplication avec des chaines de caractère, ça n’aurait pas de sens...\n",
    "\n",
    "#### Remarque :\n",
    "\n",
    "Un nom de variable peut être un mot voir même deux mots séparés par la barre de soulignement\n",
    "(par exemple) mais toujours sans espace et en commençant toujours avec une lettre. Vous avez tout intérêt à donner des noms explicites à vos variables.\n",
    "\n",
    "### Un premier programme utilisant une variable\n",
    "\n",
    "On reprend le programme précédent, mais on va demander le nom de l’utilisateur. Cela donne :\n",
    "\n"
   ]
  },
  {
   "cell_type": "code",
   "execution_count": 2,
   "metadata": {},
   "outputs": [
    {
     "name": "stdout",
     "output_type": "stream",
     "text": [
      "Bonjour\n",
      "Entrer votre nom :Emmanuel\n"
     ]
    }
   ],
   "source": [
    "print('Bonjour')\n",
    "nom=input('Entrer votre nom :')"
   ]
  },
  {
   "cell_type": "markdown",
   "metadata": {},
   "source": [
    "Ici, on a utilisé la variable `nom` dans laquelle on va stocker le nom de l’utilisateur. Comme on\n",
    "peut s’en douter, ce nom n’est pas un nombre mais une chaine de caractères ce sera le type de\n",
    "la variable **str**.\n",
    "\n",
    "Le symbole `=` correspond à une affectation.\n",
    "\n",
    "L’instruction `input` signifie que l’on veut *\"mettre quelque chose\"* dans la variable `nom`. \n",
    "\n",
    "La Phrase entre parenthèse correspond à l’indication que vous faites à l’utilisateur du programme sur\n",
    "ce qu’il doit entrer dans la variable.\n",
    "\n",
    "#### <span style='color:blue'>Exercice 2 :</span>\n",
    "\n",
    "<span style='color:blue'>Faites tourner le programme précédent en allant sur la cellule et en cliquant sur **Executer**.</span>\n",
    "\n",
    "#### Remarque : \n",
    "\n",
    "Lorsque vous faites « tourner » le programme, vous remarquez qu’il ne se passe rien après que\n",
    "vous ayez rentré votre nom. C’est normal puisqu’on a juste stocké ce nom dans la variable `nom`,\n",
    "et qu’on a rien fait d’autre (pour le moment).\n",
    "\n",
    "On va alors rajouter une troisième ligne de commande."
   ]
  },
  {
   "cell_type": "code",
   "execution_count": 1,
   "metadata": {},
   "outputs": [
    {
     "name": "stdout",
     "output_type": "stream",
     "text": [
      "Bonjour\n",
      "Entrer votre nom :Emmanuel\n",
      "Je m’appelle\n",
      "Emmanuel\n"
     ]
    }
   ],
   "source": [
    "print('Bonjour')\n",
    "nom=input('Entrer votre nom :')\n",
    "print('Je m’appelle')\n",
    "print(nom)"
   ]
  },
  {
   "cell_type": "markdown",
   "metadata": {},
   "source": [
    "Vous pouvez constater que l’instruction `print` permet d’afficher soit du texte lorsqu’il y a des\n",
    "guillemets, soit **le contenu** d’une variable lorsqu'il n'y en a pas...\n",
    "\n",
    "Heureusement, elle peut faire les deux en même temps...\n",
    "\n",
    "#### <span style='color:blue'>Exercice 3 :</span>\n",
    "\n",
    "<span style='color:blue'>1. Remplacer les deux dernières lignes du script précédent par\n",
    "`print('Je m’appelle ',nom)` et faites tourner le programme.</span>\n",
    "\n",
    "<span style='color:blue'>2. Compléter alors le programme précédent pour qu’il demande le nom, le prénom et l’age de l’utilisateur\n",
    "et qu’il renvoie ces données dans une phrase.</span>\n"
   ]
  },
  {
   "cell_type": "markdown",
   "metadata": {},
   "source": [
    "## Variables de type nombre\n",
    "\n",
    "Il existe deux types de variables pour les nombres. Le type **\"entier\" (int)** et le type **\"réel\" (float)**.\n",
    "Il faut faire attention lorsqu’on manipule ces variables à bien savoir de quel type il s’agit.\n",
    "\n",
    "Ecrivons quelques petits programmes pour essayer de faire le tour des possibilités et des problèmes\n",
    "que l’on pourra rencontrer."
   ]
  },
  {
   "cell_type": "code",
   "execution_count": 4,
   "metadata": {},
   "outputs": [
    {
     "name": "stdout",
     "output_type": "stream",
     "text": [
      "18\n"
     ]
    }
   ],
   "source": [
    "a=13\n",
    "b=5\n",
    "c=a+b\n",
    "print(c)"
   ]
  },
  {
   "cell_type": "code",
   "execution_count": 5,
   "metadata": {},
   "outputs": [
    {
     "name": "stdout",
     "output_type": "stream",
     "text": [
      "2.6\n"
     ]
    }
   ],
   "source": [
    "a=13\n",
    "b=5\n",
    "c=a/b\n",
    "print(c)"
   ]
  },
  {
   "cell_type": "code",
   "execution_count": 2,
   "metadata": {},
   "outputs": [
    {
     "name": "stdout",
     "output_type": "stream",
     "text": [
      "Entrer un nombre : 7\n",
      "Entrer un deuxième nombre : 6\n",
      "76\n"
     ]
    }
   ],
   "source": [
    "a=input('Entrer un nombre : ')\n",
    "b=input('Entrer un deuxième nombre : ')\n",
    "c=a+b\n",
    "print(c)"
   ]
  },
  {
   "cell_type": "code",
   "execution_count": 3,
   "metadata": {},
   "outputs": [
    {
     "name": "stdout",
     "output_type": "stream",
     "text": [
      "Entrer un nombre5\n",
      "Entrer un deuxième nombre5\n"
     ]
    },
    {
     "ename": "TypeError",
     "evalue": "unsupported operand type(s) for /: 'str' and 'str'",
     "output_type": "error",
     "traceback": [
      "\u001b[0;31m---------------------------------------------------------------------------\u001b[0m",
      "\u001b[0;31mTypeError\u001b[0m                                 Traceback (most recent call last)",
      "\u001b[0;32m<ipython-input-3-219691626f8a>\u001b[0m in \u001b[0;36m<module>\u001b[0;34m\u001b[0m\n\u001b[1;32m      1\u001b[0m \u001b[0ma\u001b[0m\u001b[0;34m=\u001b[0m\u001b[0minput\u001b[0m\u001b[0;34m(\u001b[0m\u001b[0;34m\"Entrer un nombre\"\u001b[0m\u001b[0;34m)\u001b[0m\u001b[0;34m\u001b[0m\u001b[0m\n\u001b[1;32m      2\u001b[0m \u001b[0mb\u001b[0m\u001b[0;34m=\u001b[0m\u001b[0minput\u001b[0m\u001b[0;34m(\u001b[0m\u001b[0;34m\"Entrer un deuxième nombre\"\u001b[0m\u001b[0;34m)\u001b[0m\u001b[0;34m\u001b[0m\u001b[0m\n\u001b[0;32m----> 3\u001b[0;31m \u001b[0mc\u001b[0m\u001b[0;34m=\u001b[0m\u001b[0ma\u001b[0m\u001b[0;34m/\u001b[0m\u001b[0mb\u001b[0m\u001b[0;34m\u001b[0m\u001b[0m\n\u001b[0m\u001b[1;32m      4\u001b[0m \u001b[0mprint\u001b[0m\u001b[0;34m(\u001b[0m\u001b[0mc\u001b[0m\u001b[0;34m)\u001b[0m\u001b[0;34m\u001b[0m\u001b[0m\n",
      "\u001b[0;31mTypeError\u001b[0m: unsupported operand type(s) for /: 'str' and 'str'"
     ]
    }
   ],
   "source": [
    "a=input('Entrer un nombre : ')\n",
    "b=input('Entrer un deuxième nombre : ')\n",
    "c=a/b\n",
    "print(c)"
   ]
  },
  {
   "cell_type": "markdown",
   "metadata": {},
   "source": [
    "Que ce passe-t-il ? Quel est le problème soulevé par l’ordinateur ?\n",
    "Proposer une solution ?"
   ]
  },
  {
   "cell_type": "code",
   "execution_count": 10,
   "metadata": {},
   "outputs": [
    {
     "data": {
      "text/plain": [
       "False"
      ]
     },
     "execution_count": 10,
     "metadata": {},
     "output_type": "execute_result"
    }
   ],
   "source": [
    "a=0.1\n",
    "b=4.6\n",
    "b==46*a"
   ]
  },
  {
   "cell_type": "markdown",
   "metadata": {},
   "source": [
    "Pour l’utilisation d’opérateur mathématiques, comme la racine carrée `sqrt` par exemple,\n",
    "il est nécessaire d’importer le **module math** en début de programme en tapant la commande suivante `import math`. La racine carrée d’un nombre $a$ s’obtiendra en notant l’instruction `math.sqrt(a)`.\n",
    "\n",
    "Pour obtenir le carré d’un nombre $a$, on multipliera le nombre avec lui même `a ∗ a` ou on utilisera\n",
    "la notation `a∗∗2`.\n",
    "\n",
    "#### Exercice 4\n",
    "\n",
    "Ecrire un programme qui demande les cotés de l'angle droit d'un triangle rectangle et qui renvoie la longueur de son hypoténuse.\n",
    "\n"
   ]
  },
  {
   "cell_type": "code",
   "execution_count": null,
   "metadata": {},
   "outputs": [],
   "source": []
  }
 ],
 "metadata": {
  "kernelspec": {
   "display_name": "Python 3",
   "language": "python",
   "name": "python3"
  },
  "language_info": {
   "codemirror_mode": {
    "name": "ipython",
    "version": 3
   },
   "file_extension": ".py",
   "mimetype": "text/x-python",
   "name": "python",
   "nbconvert_exporter": "python",
   "pygments_lexer": "ipython3",
   "version": "3.7.3"
  }
 },
 "nbformat": 4,
 "nbformat_minor": 2
}
