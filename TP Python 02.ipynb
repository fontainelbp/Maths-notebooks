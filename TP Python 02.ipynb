{
 "cells": [
  {
   "cell_type": "markdown",
   "metadata": {},
   "source": [
    "# Affectation, variables et opérations"
   ]
  },
  {
   "cell_type": "raw",
   "metadata": {},
   "source": [
    "Calculatrice"
   ]
  },
  {
   "cell_type": "raw",
   "metadata": {},
   "source": [
    "Voici un algorithme écrit en langage naturel :\n",
    "\n",
    "Affecter à A la valeur 7\n",
    "Affecter à B la valeur 2\n",
    "Affecter à C la valeur  de A+B x 2\n",
    "Afficher C\n",
    "\n",
    "Ce même algorithme peut se traduire en langage de programmation Python : \n"
   ]
  },
  {
   "cell_type": "code",
   "execution_count": null,
   "metadata": {},
   "outputs": [],
   "source": [
    "a=7\n",
    "b=2\n",
    "c=a+b*2\n",
    "print(c)"
   ]
  },
  {
   "cell_type": "raw",
   "metadata": {},
   "source": [
    "Le langage python respecte-t-il les priorités ? "
   ]
  },
  {
   "cell_type": "raw",
   "metadata": {},
   "source": [
    "modifier la ligne 3 du programme avec : c=a/b puis c=a**b\n",
    "Que font les opérations / et ** ?"
   ]
  },
  {
   "cell_type": "raw",
   "metadata": {},
   "source": [
    "De la même manière modifier le programme ligne 3 pour comprendre les opérations // et %"
   ]
  },
  {
   "cell_type": "code",
   "execution_count": null,
   "metadata": {},
   "outputs": [],
   "source": []
  }
 ],
 "metadata": {
  "kernelspec": {
   "display_name": "Python 3",
   "language": "python",
   "name": "python3"
  },
  "language_info": {
   "codemirror_mode": {
    "name": "ipython",
    "version": 3
   },
   "file_extension": ".py",
   "mimetype": "text/x-python",
   "name": "python",
   "nbconvert_exporter": "python",
   "pygments_lexer": "ipython3",
   "version": "3.7.2"
  }
 },
 "nbformat": 4,
 "nbformat_minor": 2
}
