{
 "cells": [
  {
   "cell_type": "markdown",
   "metadata": {},
   "source": [
    "# Ecrire un dialogue"
   ]
  },
  {
   "cell_type": "raw",
   "metadata": {},
   "source": [
    "Afficher un message ou un résultat : on utilise la fonction print\n",
    "Exemples :"
   ]
  },
  {
   "cell_type": "code",
   "execution_count": null,
   "metadata": {},
   "outputs": [],
   "source": [
    "print(\"Bonjour\")"
   ]
  },
  {
   "cell_type": "code",
   "execution_count": null,
   "metadata": {},
   "outputs": [],
   "source": [
    "print(3+5)"
   ]
  },
  {
   "cell_type": "code",
   "execution_count": null,
   "metadata": {},
   "outputs": [],
   "source": [
    "print(\"3+5\")"
   ]
  },
  {
   "cell_type": "raw",
   "metadata": {},
   "source": [
    "Pour les messages (chaines de caractères) on utilise des guillemets."
   ]
  },
  {
   "cell_type": "raw",
   "metadata": {},
   "source": [
    "pour coller des messages on peut utiliser l'opération +"
   ]
  },
  {
   "cell_type": "code",
   "execution_count": null,
   "metadata": {},
   "outputs": [],
   "source": [
    "print(\"Bonjour\"+\"tout\"+\"le\"+\"monde.\")"
   ]
  },
  {
   "cell_type": "raw",
   "metadata": {},
   "source": [
    "En rajoutant les espaces : "
   ]
  },
  {
   "cell_type": "code",
   "execution_count": null,
   "metadata": {},
   "outputs": [],
   "source": [
    "print(\"Bonjour \"+\"tout \"+\"le \"+\"monde.\")"
   ]
  },
  {
   "cell_type": "raw",
   "metadata": {},
   "source": [
    "La virgule permet de séparer l'affichage de plusieurs messages ou résultats : "
   ]
  },
  {
   "cell_type": "code",
   "execution_count": null,
   "metadata": {},
   "outputs": [],
   "source": [
    "print(\"j'ai marqué\",7+8+12, \"points.\")"
   ]
  },
  {
   "cell_type": "raw",
   "metadata": {},
   "source": [
    "Questionner l'utilisateur : on utilise la fonction input\n",
    "La machine attend la saisie d'un message par l'utilisateur.\n",
    "Exemple :"
   ]
  },
  {
   "cell_type": "code",
   "execution_count": null,
   "metadata": {},
   "outputs": [],
   "source": [
    "Prénom=input(\"Quel est votre prénom ?\")\n",
    "print(\"Bonjour\",Prénom)"
   ]
  },
  {
   "cell_type": "raw",
   "metadata": {},
   "source": [
    "Exercice 1 : \n",
    "Voici un début de programme\n",
    "Modifier le programme pour que la machine s'adresse à vous.\n",
    "Ajouter des questions et des réponses. "
   ]
  },
  {
   "cell_type": "code",
   "execution_count": null,
   "metadata": {},
   "outputs": [],
   "source": [
    "Prénom=\"Lancelot\"\n",
    "print(\"Bonjour\",Prénom)\n",
    "print(\"Lancelot est un joli prénom!\")\n",
    "print(\"Comment vas tu\", Prénom,\"?\")"
   ]
  },
  {
   "cell_type": "raw",
   "metadata": {},
   "source": [
    "Exercice 2 :\n",
    "Modifier le programme écrit à l'exercice précédent pour que la machine puisse s'adresser à n'importe quel utilisateur."
   ]
  }
 ],
 "metadata": {
  "kernelspec": {
   "display_name": "Python 3",
   "language": "python",
   "name": "python3"
  },
  "language_info": {
   "codemirror_mode": {
    "name": "ipython",
    "version": 3
   },
   "file_extension": ".py",
   "mimetype": "text/x-python",
   "name": "python",
   "nbconvert_exporter": "python",
   "pygments_lexer": "ipython3",
   "version": "3.7.2"
  }
 },
 "nbformat": 4,
 "nbformat_minor": 2
}
