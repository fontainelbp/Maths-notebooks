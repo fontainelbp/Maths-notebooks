{
 "cells": [
  {
   "cell_type": "markdown",
   "metadata": {},
   "source": [
    "# Boucles \n",
    "\n",
    "## Position du problème\n",
    "\n",
    "Pour un programme qui donne la table de multiplication qu'on lui demande on peut écrire le code ci-dessous."
   ]
  },
  {
   "cell_type": "code",
   "execution_count": 17,
   "metadata": {},
   "outputs": [
    {
     "name": "stdout",
     "output_type": "stream",
     "text": [
      "Quelle table de multiplication voulez-vous : 9\n",
      "9 x 1 = 9\n",
      "9 x 2 = 18\n",
      "9 x 3 = 27\n",
      "9 x 4 = 36\n",
      "9 x 5 = 45\n",
      "9 x 6 = 54\n",
      "9 x 7 = 63\n",
      "9 x 8 = 72\n",
      "9 x 9 = 81\n",
      "9 x 10 = 90\n"
     ]
    }
   ],
   "source": [
    "table=input('Quelle table de multiplication voulez-vous : ')\n",
    "table=int(table)\n",
    "resultat=table*(1)\n",
    "print(table,'x 1 =',resultat)\n",
    "resultat=table*(2)\n",
    "print(table,'x 2 =',resultat)\n",
    "resultat=table*(3)\n",
    "print(table,'x 3 =',resultat)\n",
    "resultat=table*(4)\n",
    "print(table,'x 4 =',resultat)\n",
    "resultat=table*(5)\n",
    "print(table,'x 5 =',resultat)\n",
    "resultat=table*(6)\n",
    "print(table,'x 6 =',resultat)\n",
    "resultat=table*(7)\n",
    "print(table,'x 7 =',resultat)\n",
    "resultat=table*(8)\n",
    "print(table,'x 8 =',resultat)\n",
    "resultat=table*(9)\n",
    "print(table,'x 9 =',resultat)\n",
    "resultat=table*(10)\n",
    "print(table,'x 10 =',resultat)"
   ]
  },
  {
   "cell_type": "markdown",
   "metadata": {},
   "source": [
    "On constate que ce programme fonctionne bien mais qu'on a répété 10 fois quasiment la meme instruction ce qui n'est pas très agréable. C'est là qu'une **boucle** démontre tout son intéret.\n",
    "\n",
    "Comme vous vous en doutez, les boucles servent à répéter une ou plusieurs instructions un certain\n",
    "nombre de fois. \n",
    "\n",
    "Il existe deux types de boucles, les **boucles itératives**, et les **boucles avec test d’arrêt**.\n",
    "\n",
    "\n",
    "## Les boucles itératives avec l'instruction `for`\n",
    "\n"
   ]
  },
  {
   "cell_type": "markdown",
   "metadata": {},
   "source": [
    "Lorsque vous écrivez une boucle, il faut que les instructions qui doivent être répétées ne se mélangent pas avec les suivantes, c’est pourquoi, dans un certain nombre de langage (comme celui de la calculatrice par exemple), il est nécessaire de marquer la fin de la boucle par un mot clé (\"end\" dans le cas de la calculatrice).\n",
    "\n",
    "En python, il faut également signifier que l’on rentre puis que l’on sort de la boucle que l’on utilise,\n",
    "mais pour cela il n’y a pas de mot clé. Pour entrer dans la boucle, on mettra le symbole `:`, puis\n",
    "on passe à la ligne avec une **indentation** (elle se fait automatiquement sur jupiter).\n",
    "\n",
    "Pour signifier que les instructions ne sont plus dans la boucle, il suffit alors de revenir à la colonne\n",
    "initiale..."
   ]
  },
  {
   "cell_type": "code",
   "execution_count": 15,
   "metadata": {},
   "outputs": [
    {
     "name": "stdout",
     "output_type": "stream",
     "text": [
      "Quelle table de multiplication voulez-vous : 4\n",
      "4 x 1 = 4\n",
      "4 x 2 = 8\n",
      "4 x 3 = 12\n",
      "4 x 4 = 16\n",
      "4 x 5 = 20\n",
      "4 x 6 = 24\n",
      "4 x 7 = 28\n",
      "4 x 8 = 32\n",
      "4 x 9 = 36\n",
      "4 x 10 = 40\n"
     ]
    }
   ],
   "source": [
    "table=input('Quelle table de multiplication voulez-vous : ')\n",
    "table=int(table)\n",
    "for i in range(10) :\n",
    "    resultat=table*(i+1)\n",
    "    print(table,'x',i+1,'=',resultat)"
   ]
  },
  {
   "cell_type": "markdown",
   "metadata": {},
   "source": [
    "#### Remarques :\n",
    "\n",
    "* On remarquera que la valeur entrée dans la variable table à la première ligne a été transformée en entier à la seconde. Et oui, on ne fait pas de multiplication avec des chaines de caractères...\n",
    "* L’instruction `for i in range(10):` signifie que la variable `i` va prendre les uns à la suite des autres des 10 nombres de la liste (0,1,2,3,4,5,6,7,8,9) dans cette ordre en changeant à chaque tour de boucle. La boucle se terminant lorsque `i` à fini de parcourir la liste.\n",
    "* Il existe d'autre façon d'écrire la boucle `for`, on les verra par la suite.\n",
    "* Attention, l’indentation est importante. En effet, si vous modifier votre programme juste en enlevant l’indentation sur la dernière ligne, alors vous n’aurez pas la table de multiplication en entier mais juste la dernière ligne... **Essayez pour vous en rendre compte.**"
   ]
  },
  {
   "cell_type": "markdown",
   "metadata": {},
   "source": [
    "## La boucle avec test d'arret avec l'instruction `while`"
   ]
  },
  {
   "cell_type": "code",
   "execution_count": 21,
   "metadata": {},
   "outputs": [
    {
     "name": "stdout",
     "output_type": "stream",
     "text": [
      "Quelle table de multiplication voulez-vous999000\n",
      "999000  x  1  =  999000\n",
      "999000  x  2  =  1998000\n",
      "999000  x  3  =  2997000\n",
      "999000  x  4  =  3996000\n",
      "999000  x  5  =  4995000\n",
      "999000  x  6  =  5994000\n",
      "999000  x  7  =  6993000\n",
      "999000  x  8  =  7992000\n",
      "999000  x  9  =  8991000\n",
      "999000  x  10  =  9990000\n"
     ]
    }
   ],
   "source": [
    "table=input('Quelle table de multiplication voulez-vous')\n",
    "table=int(table)\n",
    "i=0\n",
    "while i <= 9:\n",
    "    i=i+1\n",
    "    resultat=table*i\n",
    "    print(table,' x ',i,' = ',resultat)"
   ]
  },
  {
   "cell_type": "markdown",
   "metadata": {},
   "source": [
    "#### Remarque :\n",
    "\n",
    "* L'instruction `while` se traduit par ***tant que***. Les instructions à l'intérieur de la boucle se répète ***tant que*** le test d'arret n'est pas vérifié. \n",
    "* L’instruction `i=0` juste avant la boucle permet **d’initialiser** la variable `i`. C’est à dire de lui donner une première valeur de travail.\n",
    "* L’instruction `i=i+1` dans la boucle permet d’incrémenter la variable `i` (c’est à dire de lui ajouter 1) à chaque tour de boucle.\n",
    "* Il faut faire attention car si le test d'arret ne se vérifie pas, on tombe dans une boucle infinie. \n",
    "\n",
    "\n",
    "#### Exercice : \n",
    "\n",
    "Modifier le programme précédent afin de tomber dans une boucle infinie**. "
   ]
  },
  {
   "cell_type": "markdown",
   "metadata": {},
   "source": [
    "## A vous maintenant\n",
    "\n",
    "#### Exercice :\n",
    "\n",
    "Le programme suivant sert à calculer une moyenne trimestrielle.\n",
    "1. Nommer les différentes variables.\n",
    "2. \n",
    "    1. A quoi sert l'nstruction `nombre_notes=int(nombre_notes)` à la ligne 3.\n",
    "    2. Quel est le type de la variable `nombre_notes` avant cette instruction\n",
    "3. A la ligne 6, pourquoi avoir écrit l'instruction `note=float(note)` plutot que l'instruction `note=int(note)` ?\n",
    "4. Quel est le type de la variable `moyenne` ?\n"
   ]
  },
  {
   "cell_type": "code",
   "execution_count": 23,
   "metadata": {},
   "outputs": [
    {
     "name": "stdout",
     "output_type": "stream",
     "text": [
      "Entrer le nombre de notes obtenues : 3\n",
      "Entrer une note : 13\n",
      "Entrer une note : 15\n",
      "Entrer une note : 17\n",
      "Votre moyenne ce trimestre est :  15.0\n"
     ]
    }
   ],
   "source": [
    "somme=0\n",
    "nombre_notes=input('Entrer le nombre de notes obtenues : ')\n",
    "nombre_notes=int(nombre_notes)\n",
    "for i in range(nombre_notes):\n",
    "    note=input('Entrer une note : ')\n",
    "    note=float(note)\n",
    "    somme=somme+note\n",
    "moyenne=somme/nombre_notes\n",
    "print('Votre moyenne ce trimestre est : ',moyenne)\n"
   ]
  },
  {
   "cell_type": "markdown",
   "metadata": {},
   "source": [
    "#### Exercice\n",
    "1. Quelles sont les instructions qui sont répétées par la boucle ?\n",
    "2. Modifier le programme précédent afin que la moyenne soit recalculée à chaque fois qu'on rentre une note."
   ]
  },
  {
   "cell_type": "markdown",
   "metadata": {},
   "source": [
    "#### Exercice\n",
    "\n",
    "Compléter le programme en demandant les coefficients des différentes notes et en en tenant compte dans le calcul de la moyenne.\n"
   ]
  },
  {
   "cell_type": "markdown",
   "metadata": {},
   "source": [
    "#### Exercice\n",
    "\n",
    "Proposer un autre programme qui ne demande pas au départ le nombre de note, mais qui demande à chaque étape s’il faut rajouter une note ou non puis qui calcule la moyenne.\n",
    "\n",
    "*Dans ce programme on utilisera la boucle `while` plutot que la boucle `for`.*"
   ]
  },
  {
   "cell_type": "code",
   "execution_count": null,
   "metadata": {},
   "outputs": [],
   "source": []
  }
 ],
 "metadata": {
  "kernelspec": {
   "display_name": "Python 3",
   "language": "python",
   "name": "python3"
  },
  "language_info": {
   "codemirror_mode": {
    "name": "ipython",
    "version": 3
   },
   "file_extension": ".py",
   "mimetype": "text/x-python",
   "name": "python",
   "nbconvert_exporter": "python",
   "pygments_lexer": "ipython3",
   "version": "3.5.2"
  }
 },
 "nbformat": 4,
 "nbformat_minor": 2
}
